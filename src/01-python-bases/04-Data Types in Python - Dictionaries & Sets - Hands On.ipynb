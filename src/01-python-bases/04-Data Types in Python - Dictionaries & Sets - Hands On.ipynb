{
 "cells": [
  {
   "cell_type": "markdown",
   "metadata": {},
   "source": [
    "## Python Dictionaries\n",
    "*Used to store data values in key:value pairs*"
   ]
  },
  {
   "cell_type": "code",
   "execution_count": 1,
   "metadata": {},
   "outputs": [
    {
     "name": "stdout",
     "output_type": "stream",
     "text": [
      "{'Phil': 'phil@gmail.com', 'Jay': 'jay@gmail.com', 'Gloria': 'gloria@gmail.com', 'Claire': 'claire@yahoo.com', 'Cameron': 'cameron@yahoo.com'}\n",
      "<class 'dict'>\n"
     ]
    }
   ],
   "source": [
    "#Key & Value can be of any data type\n",
    "my_email = {\"Phil\": \"phil@gmail.com\",\n",
    "             \"Jay\" : \"jay@gmail.com\",\n",
    "             \"Gloria\": \"gloria@gmail.com\",\n",
    "             \"Claire\": \"claire@yahoo.com\",\n",
    "             \"Cameron\": \"cameron@yahoo.com\"}\n",
    "print(my_email)\n",
    "print(type(my_email))"
   ]
  },
  {
   "cell_type": "code",
   "execution_count": 2,
   "metadata": {},
   "outputs": [
    {
     "name": "stdout",
     "output_type": "stream",
     "text": [
      "{1: 50, 2: 60, 3: 70, 4: 80}\n",
      "<class 'dict'>\n"
     ]
    }
   ],
   "source": [
    "ex_dict1= {1 : 50, \n",
    "           2 : 60, \n",
    "           3 : 70,\n",
    "           4 : 80}\n",
    "print(ex_dict1)\n",
    "print(type(ex_dict1))"
   ]
  },
  {
   "cell_type": "code",
   "execution_count": 3,
   "metadata": {},
   "outputs": [
    {
     "name": "stdout",
     "output_type": "stream",
     "text": [
      "{10: 'John', 20: 'Jacob', 30: 'Jack'}\n",
      "<class 'dict'>\n"
     ]
    }
   ],
   "source": [
    "ex_dict2 = {10 : \"John\",\n",
    "            20 : \"Jacob\",\n",
    "            30 : \"Jack\"}\n",
    "print(ex_dict2)\n",
    "print(type(ex_dict2))"
   ]
  },
  {
   "cell_type": "code",
   "execution_count": 6,
   "metadata": {},
   "outputs": [
    {
     "name": "stdout",
     "output_type": "stream",
     "text": [
      "{'Phil': 25, 100: 28, 'Claire': (50+6j)}\n",
      "<class 'dict'>\n"
     ]
    }
   ],
   "source": [
    "ex_dict3 = {\"Phil\" : 25,\n",
    "            100 : 28,\n",
    "            \"Claire\" : 50+6j}\n",
    "print(ex_dict3)\n",
    "print(type(ex_dict3))"
   ]
  },
  {
   "cell_type": "markdown",
   "metadata": {},
   "source": [
    "## Sets in Python\n",
    "*unordered collection of elements*"
   ]
  },
  {
   "cell_type": "code",
   "execution_count": 7,
   "metadata": {},
   "outputs": [
    {
     "name": "stdout",
     "output_type": "stream",
     "text": [
      "{100, 70, 80, 50, 90, 60}\n",
      "<class 'set'>\n"
     ]
    }
   ],
   "source": [
    "ex_set1 = {50,60,70,80,90,100}\n",
    "print(ex_set1)\n",
    "print(type(ex_set1))"
   ]
  },
  {
   "cell_type": "code",
   "execution_count": 8,
   "metadata": {},
   "outputs": [
    {
     "name": "stdout",
     "output_type": "stream",
     "text": [
      "{50, 'Jack', 5.52, (3.14+4j)}\n",
      "<class 'set'>\n"
     ]
    }
   ],
   "source": [
    "ex_set2 = {50,5.52 , \"Jack\",3.14+4j}\n",
    "print(ex_set2)\n",
    "print(type(ex_set2))"
   ]
  },
  {
   "cell_type": "markdown",
   "metadata": {},
   "source": [
    "## Activity"
   ]
  },
  {
   "cell_type": "markdown",
   "metadata": {},
   "source": [
    "#### Create a Python Dictionary by referring the below key - value pairs :"
   ]
  },
  {
   "cell_type": "markdown",
   "metadata": {},
   "source": [
    "|Key | Value | \n",
    "|---:|:-------------|\n",
    "| 1 | 100  | \n",
    "| 2 | 200  | \n",
    "| 3 | 300  | \n",
    "| 4 | 400  | \n",
    "| 5 | 500  | "
   ]
  },
  {
   "cell_type": "markdown",
   "metadata": {},
   "source": [
    "2."
   ]
  },
  {
   "cell_type": "markdown",
   "metadata": {},
   "source": [
    "|Key | Value | \n",
    "|---:|:-------------|\n",
    "| Phil | Google  | \n",
    "| Claire | Yahoo  | \n",
    "| Gloria | AOL  | \n",
    "| Jay | Live  | "
   ]
  },
  {
   "cell_type": "markdown",
   "metadata": {},
   "source": [
    "### Create a Python set :\n",
    "1. contains natural numbers between 1 to 10\n",
    "2. Months in a calander year"
   ]
  },
  {
   "cell_type": "code",
   "execution_count": null,
   "metadata": {},
   "outputs": [],
   "source": []
  }
 ],
 "metadata": {
  "kernelspec": {
   "display_name": "Python 3",
   "language": "python",
   "name": "python3"
  },
  "language_info": {
   "codemirror_mode": {
    "name": "ipython",
    "version": 3
   },
   "file_extension": ".py",
   "mimetype": "text/x-python",
   "name": "python",
   "nbconvert_exporter": "python",
   "pygments_lexer": "ipython3",
   "version": "3.8.3"
  }
 },
 "nbformat": 4,
 "nbformat_minor": 4
}
