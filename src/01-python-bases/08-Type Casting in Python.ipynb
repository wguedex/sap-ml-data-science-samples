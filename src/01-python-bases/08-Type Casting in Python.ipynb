{
 "cells": [
  {
   "cell_type": "markdown",
   "metadata": {},
   "source": [
    "### Implicit Casting"
   ]
  },
  {
   "cell_type": "code",
   "execution_count": 1,
   "metadata": {},
   "outputs": [
    {
     "name": "stdout",
     "output_type": "stream",
     "text": [
      "Data Type of a is: <class 'int'>\n",
      "Data Type of b is: <class 'float'>\n",
      "Division is: 40.0\n",
      "Data Type of div is: <class 'float'>\n"
     ]
    }
   ],
   "source": [
    "#Automatically changes the data type to higher data type\n",
    "\n",
    "a = 100\n",
    "print(\"Data Type of a is:\",type(a))\n",
    "b = 2.5\n",
    "print(\"Data Type of b is:\",type(b))\n",
    "div = a/b\n",
    "print(\"Division is:\",div)\n",
    "print(\"Data Type of div is:\",type(div))"
   ]
  },
  {
   "cell_type": "code",
   "execution_count": 2,
   "metadata": {},
   "outputs": [
    {
     "name": "stdout",
     "output_type": "stream",
     "text": [
      "Data Type of a is: <class 'int'>\n",
      "Data Type of b is: <class 'complex'>\n",
      "Division is: (125-125j)\n",
      "Data Type of div is: <class 'complex'>\n"
     ]
    }
   ],
   "source": [
    "a = 500\n",
    "print(\"Data Type of a is:\",type(a))\n",
    "b = 2+2j\n",
    "print(\"Data Type of b is:\",type(b))\n",
    "div = a/b\n",
    "print(\"Division is:\",div)\n",
    "print(\"Data Type of div is:\",type(div))"
   ]
  },
  {
   "cell_type": "markdown",
   "metadata": {},
   "source": [
    "### Explicit Casting"
   ]
  },
  {
   "cell_type": "markdown",
   "metadata": {},
   "source": [
    "*Use inbuilt data types as functions to convert the values*"
   ]
  },
  {
   "cell_type": "markdown",
   "metadata": {},
   "source": [
    "Common ones are:\n",
    "- int\n",
    "- float\n",
    "- complex\n",
    "- list\n",
    "- tuple\n",
    "- set\n",
    "- dict"
   ]
  },
  {
   "cell_type": "code",
   "execution_count": 3,
   "metadata": {},
   "outputs": [
    {
     "name": "stdout",
     "output_type": "stream",
     "text": [
      "<class 'float'>\n",
      "y is : 3 , data typs is : <class 'int'>\n"
     ]
    }
   ],
   "source": [
    "#Convert the float to integers\n",
    "x = 3.33\n",
    "print(type(x))\n",
    "y = int(x)  #convert to integers\n",
    "print(\"y is : {} , data typs is : {}\".format(y,type(y)))"
   ]
  },
  {
   "cell_type": "code",
   "execution_count": 4,
   "metadata": {},
   "outputs": [
    {
     "name": "stdout",
     "output_type": "stream",
     "text": [
      "<class 'float'>\n",
      "y is : 3.33 , data typs is : <class 'str'>\n"
     ]
    }
   ],
   "source": [
    "#Convert the float to strings\n",
    "x = 3.33\n",
    "print(type(x))\n",
    "y = str(x)  #convert to strings\n",
    "print(\"y is : {} , data typs is : {}\".format(y,type(y)))"
   ]
  },
  {
   "cell_type": "code",
   "execution_count": 5,
   "metadata": {},
   "outputs": [
    {
     "name": "stdout",
     "output_type": "stream",
     "text": [
      "<class 'int'>\n",
      "y is : 3 , data typs is : <class 'str'>\n"
     ]
    }
   ],
   "source": [
    "#Convert the int to strings\n",
    "x = 3\n",
    "print(type(x))\n",
    "y = str(x)  #convert to strings\n",
    "print(\"y is : {} , data typs is : {}\".format(y,type(y)))"
   ]
  },
  {
   "cell_type": "code",
   "execution_count": 6,
   "metadata": {},
   "outputs": [
    {
     "name": "stdout",
     "output_type": "stream",
     "text": [
      "<class 'complex'>\n",
      "y is : (5+6j) , data type is : <class 'str'>\n"
     ]
    }
   ],
   "source": [
    "#Convert the complex to strings\n",
    "x = 5 + 6j\n",
    "print(type(x))\n",
    "y = str(x)  #convert to strings\n",
    "print(\"y is : {} , data type is : {}\".format(y,type(y)))"
   ]
  },
  {
   "cell_type": "code",
   "execution_count": 7,
   "metadata": {},
   "outputs": [
    {
     "name": "stdout",
     "output_type": "stream",
     "text": [
      "x is : 55.25 , data type is : <class 'str'>\n",
      "y is : (55.25+0j) , data type is : <class 'complex'>\n"
     ]
    }
   ],
   "source": [
    "#Convert the strings to complex\n",
    "x = \"55.25\"\n",
    "print(\"x is : {} , data type is : {}\".format(x,type(x)))\n",
    "y = complex(x)  #convert to complex\n",
    "print(\"y is : {} , data type is : {}\".format(y,type(y)))"
   ]
  },
  {
   "cell_type": "code",
   "execution_count": 8,
   "metadata": {},
   "outputs": [
    {
     "name": "stdout",
     "output_type": "stream",
     "text": [
      "x is : 50 , data type is : <class 'str'>\n",
      "y is : 50 , data type is : <class 'int'>\n"
     ]
    }
   ],
   "source": [
    "#Convert the strings to integers\n",
    "x = \"50\"\n",
    "print(\"x is : {} , data type is : {}\".format(x,type(x)))\n",
    "y = int(x)  #convert to integer\n",
    "print(\"y is : {} , data type is : {}\".format(y,type(y)))"
   ]
  },
  {
   "cell_type": "code",
   "execution_count": 9,
   "metadata": {},
   "outputs": [
    {
     "name": "stdout",
     "output_type": "stream",
     "text": [
      "x is : hello , data type is : <class 'str'>\n"
     ]
    },
    {
     "ename": "ValueError",
     "evalue": "invalid literal for int() with base 10: 'hello'",
     "output_type": "error",
     "traceback": [
      "\u001b[1;31m---------------------------------------------------------------------------\u001b[0m",
      "\u001b[1;31mValueError\u001b[0m                                Traceback (most recent call last)",
      "\u001b[1;32m<ipython-input-9-fb6272db37f5>\u001b[0m in \u001b[0;36m<module>\u001b[1;34m\u001b[0m\n\u001b[0;32m      2\u001b[0m \u001b[0mx\u001b[0m \u001b[1;33m=\u001b[0m \u001b[1;34m\"hello\"\u001b[0m  \u001b[1;31m#This is a string\u001b[0m\u001b[1;33m\u001b[0m\u001b[1;33m\u001b[0m\u001b[0m\n\u001b[0;32m      3\u001b[0m \u001b[0mprint\u001b[0m\u001b[1;33m(\u001b[0m\u001b[1;34m\"x is : {} , data type is : {}\"\u001b[0m\u001b[1;33m.\u001b[0m\u001b[0mformat\u001b[0m\u001b[1;33m(\u001b[0m\u001b[0mx\u001b[0m\u001b[1;33m,\u001b[0m\u001b[0mtype\u001b[0m\u001b[1;33m(\u001b[0m\u001b[0mx\u001b[0m\u001b[1;33m)\u001b[0m\u001b[1;33m)\u001b[0m\u001b[1;33m)\u001b[0m\u001b[1;33m\u001b[0m\u001b[1;33m\u001b[0m\u001b[0m\n\u001b[1;32m----> 4\u001b[1;33m \u001b[0my\u001b[0m \u001b[1;33m=\u001b[0m \u001b[0mint\u001b[0m\u001b[1;33m(\u001b[0m\u001b[0mx\u001b[0m\u001b[1;33m)\u001b[0m  \u001b[1;31m#convert to integer\u001b[0m\u001b[1;33m\u001b[0m\u001b[1;33m\u001b[0m\u001b[0m\n\u001b[0m\u001b[0;32m      5\u001b[0m \u001b[0mprint\u001b[0m\u001b[1;33m(\u001b[0m\u001b[1;34m\"y is : {} , data type is : {}\"\u001b[0m\u001b[1;33m.\u001b[0m\u001b[0mformat\u001b[0m\u001b[1;33m(\u001b[0m\u001b[0my\u001b[0m\u001b[1;33m,\u001b[0m\u001b[0mtype\u001b[0m\u001b[1;33m(\u001b[0m\u001b[0my\u001b[0m\u001b[1;33m)\u001b[0m\u001b[1;33m)\u001b[0m\u001b[1;33m)\u001b[0m\u001b[1;33m\u001b[0m\u001b[1;33m\u001b[0m\u001b[0m\n",
      "\u001b[1;31mValueError\u001b[0m: invalid literal for int() with base 10: 'hello'"
     ]
    }
   ],
   "source": [
    "#Some type conversion is not allowed\n",
    "x = \"hello\"  #This is a string\n",
    "print(\"x is : {} , data type is : {}\".format(x,type(x)))\n",
    "y = int(x)  #convert to integer\n",
    "print(\"y is : {} , data type is : {}\".format(y,type(y)))"
   ]
  },
  {
   "cell_type": "code",
   "execution_count": 10,
   "metadata": {},
   "outputs": [
    {
     "name": "stdout",
     "output_type": "stream",
     "text": [
      "ex_list is : [10, 20, 30, 40, 50] , data typs is : <class 'list'>\n",
      "ex_tuple is : (10, 20, 30, 40, 50) , data type is : <class 'tuple'>\n"
     ]
    }
   ],
   "source": [
    "#convert from list to tuple\n",
    "ex_list = [10,20,30,40,50]\n",
    "print(\"ex_list is : {} , data typs is : {}\".format(ex_list,type(ex_list)))\n",
    "ex_tuple = tuple(ex_list)\n",
    "print(\"ex_tuple is : {} , data type is : {}\".format(ex_tuple,type(ex_tuple)))"
   ]
  },
  {
   "cell_type": "code",
   "execution_count": 11,
   "metadata": {},
   "outputs": [
    {
     "name": "stdout",
     "output_type": "stream",
     "text": [
      "ex_list is : [10, 20, 30, 40, 50] , data typs is : <class 'list'>\n",
      "ex_set is : {40, 10, 50, 20, 30} , data type is : <class 'set'>\n"
     ]
    }
   ],
   "source": [
    "#convert from list to set\n",
    "ex_list = [10,20,30,40,50]\n",
    "print(\"ex_list is : {} , data typs is : {}\".format(ex_list,type(ex_list)))\n",
    "ex_set = set(ex_list)\n",
    "print(\"ex_set is : {} , data type is : {}\".format(ex_set,type(ex_set)))"
   ]
  },
  {
   "cell_type": "code",
   "execution_count": 12,
   "metadata": {},
   "outputs": [
    {
     "name": "stdout",
     "output_type": "stream",
     "text": [
      "ex_set is : {40, 10, 50, 20, 30} , data type is : <class 'set'>\n",
      "ex_tuple is : (40, 10, 50, 20, 30) , data type is : <class 'tuple'>\n"
     ]
    }
   ],
   "source": [
    "#convert from set to tuple\n",
    "ex_set = {10,20,30,40,50}\n",
    "print(\"ex_set is : {} , data type is : {}\".format(ex_set,type(ex_set)))\n",
    "ex_tuple = tuple(ex_set)\n",
    "print(\"ex_tuple is : {} , data type is : {}\".format(ex_tuple,type(ex_tuple)))"
   ]
  },
  {
   "cell_type": "code",
   "execution_count": null,
   "metadata": {},
   "outputs": [],
   "source": []
  }
 ],
 "metadata": {
  "kernelspec": {
   "display_name": "Python 3",
   "language": "python",
   "name": "python3"
  },
  "language_info": {
   "codemirror_mode": {
    "name": "ipython",
    "version": 3
   },
   "file_extension": ".py",
   "mimetype": "text/x-python",
   "name": "python",
   "nbconvert_exporter": "python",
   "pygments_lexer": "ipython3",
   "version": "3.8.3"
  }
 },
 "nbformat": 4,
 "nbformat_minor": 4
}
