{
 "cells": [
  {
   "cell_type": "markdown",
   "metadata": {},
   "source": [
    "### Getting Input from Users"
   ]
  },
  {
   "cell_type": "code",
   "execution_count": 3,
   "metadata": {},
   "outputs": [
    {
     "name": "stdout",
     "output_type": "stream",
     "text": [
      "Please enter the number: 10\n"
     ]
    }
   ],
   "source": [
    "x = input(\"Please enter the number: \")"
   ]
  },
  {
   "cell_type": "code",
   "execution_count": 4,
   "metadata": {},
   "outputs": [
    {
     "name": "stdout",
     "output_type": "stream",
     "text": [
      "x is : 10 , data type is : <class 'str'>\n"
     ]
    }
   ],
   "source": [
    "print(\"x is : {} , data type is : {}\".format(x,type(x)))"
   ]
  },
  {
   "cell_type": "code",
   "execution_count": 6,
   "metadata": {},
   "outputs": [
    {
     "name": "stdout",
     "output_type": "stream",
     "text": [
      "Please enter the input: [1,2,3]\n",
      "y is : [1,2,3] , data type is : <class 'str'>\n"
     ]
    }
   ],
   "source": [
    "y = input(\"Please enter the input: \")\n",
    "print(\"y is : {} , data type is : {}\".format(y,type(y)))"
   ]
  },
  {
   "cell_type": "markdown",
   "metadata": {},
   "source": [
    "### Hands - On Implementation"
   ]
  },
  {
   "cell_type": "markdown",
   "metadata": {},
   "source": [
    "##### Write a Program which accepts two numbers and returns sum of two numbers"
   ]
  },
  {
   "cell_type": "code",
   "execution_count": 7,
   "metadata": {},
   "outputs": [
    {
     "name": "stdout",
     "output_type": "stream",
     "text": [
      "Write the first number5\n",
      "Write the second number10\n",
      "x is : 5 , data type is : <class 'str'>\n",
      "y is : 10 , data type is : <class 'str'>\n",
      "result is : 510 , data type is : <class 'str'>\n"
     ]
    }
   ],
   "source": [
    "x = input(\"Write the first number\")\n",
    "y = input(\"Write the second number\")\n",
    "print(\"x is : {} , data type is : {}\".format(x,type(x)))\n",
    "print(\"y is : {} , data type is : {}\".format(y,type(y)))\n",
    "add = x + y\n",
    "print(\"result is : {} , data type is : {}\".format(add,type(add)))"
   ]
  },
  {
   "cell_type": "code",
   "execution_count": 8,
   "metadata": {},
   "outputs": [
    {
     "name": "stdout",
     "output_type": "stream",
     "text": [
      "Write the first number5\n",
      "Write the second number10\n",
      "x is : 5 , data type is : <class 'str'>\n",
      "y is : 10 , data type is : <class 'str'>\n",
      "result is : 15 , data type is : <class 'int'>\n"
     ]
    }
   ],
   "source": [
    "x = input(\"Write the first number\")\n",
    "y = input(\"Write the second number\")\n",
    "print(\"x is : {} , data type is : {}\".format(x,type(x)))\n",
    "print(\"y is : {} , data type is : {}\".format(y,type(y)))\n",
    "add = int(x) + int(y)\n",
    "print(\"result is : {} , data type is : {}\".format(add,type(add)))"
   ]
  },
  {
   "cell_type": "code",
   "execution_count": 9,
   "metadata": {},
   "outputs": [
    {
     "name": "stdout",
     "output_type": "stream",
     "text": [
      "Write the first number5\n",
      "Write the second number10\n",
      "x is : 5 , data type is : <class 'str'>\n",
      "y is : 10 , data type is : <class 'str'>\n",
      "result is : 15.0 , data type is : <class 'float'>\n"
     ]
    }
   ],
   "source": [
    "x = input(\"Write the first number\")\n",
    "y = input(\"Write the second number\")\n",
    "print(\"x is : {} , data type is : {}\".format(x,type(x)))\n",
    "print(\"y is : {} , data type is : {}\".format(y,type(y)))\n",
    "add = float(x) + float(y)\n",
    "print(\"result is : {} , data type is : {}\".format(add,type(add)))"
   ]
  },
  {
   "cell_type": "markdown",
   "metadata": {},
   "source": [
    "### Activity :"
   ]
  },
  {
   "cell_type": "markdown",
   "metadata": {},
   "source": [
    "##### 1. Write a program which takes 3 numbers as input and returns its sum\n",
    "##### 2. Write a program which takes 3 numbers as input and retruns its average. (Hint: Average = Sum/number of values)"
   ]
  },
  {
   "cell_type": "code",
   "execution_count": null,
   "metadata": {},
   "outputs": [],
   "source": []
  },
  {
   "cell_type": "code",
   "execution_count": null,
   "metadata": {},
   "outputs": [],
   "source": []
  },
  {
   "cell_type": "code",
   "execution_count": null,
   "metadata": {},
   "outputs": [],
   "source": []
  }
 ],
 "metadata": {
  "kernelspec": {
   "display_name": "Python 3",
   "language": "python",
   "name": "python3"
  },
  "language_info": {
   "codemirror_mode": {
    "name": "ipython",
    "version": 3
   },
   "file_extension": ".py",
   "mimetype": "text/x-python",
   "name": "python",
   "nbconvert_exporter": "python",
   "pygments_lexer": "ipython3",
   "version": "3.8.3"
  }
 },
 "nbformat": 4,
 "nbformat_minor": 4
}
