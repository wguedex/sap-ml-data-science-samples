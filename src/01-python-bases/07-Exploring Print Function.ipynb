{
 "cells": [
  {
   "cell_type": "markdown",
   "metadata": {},
   "source": [
    "## Working with Print Function"
   ]
  },
  {
   "cell_type": "code",
   "execution_count": 1,
   "metadata": {},
   "outputs": [
    {
     "name": "stdout",
     "output_type": "stream",
     "text": [
      "10\n"
     ]
    }
   ],
   "source": [
    "#Can print variables, values, and do the operations directly inside print function\n",
    "x = 10\n",
    "print(x) # print variable"
   ]
  },
  {
   "cell_type": "code",
   "execution_count": 2,
   "metadata": {},
   "outputs": [
    {
     "name": "stdout",
     "output_type": "stream",
     "text": [
      "100\n"
     ]
    }
   ],
   "source": [
    "print(100)"
   ]
  },
  {
   "cell_type": "code",
   "execution_count": 3,
   "metadata": {},
   "outputs": [
    {
     "name": "stdout",
     "output_type": "stream",
     "text": [
      "Hello World\n"
     ]
    }
   ],
   "source": [
    "print('Hello World')"
   ]
  },
  {
   "cell_type": "code",
   "execution_count": 4,
   "metadata": {},
   "outputs": [
    {
     "name": "stdout",
     "output_type": "stream",
     "text": [
      "1000\n"
     ]
    }
   ],
   "source": [
    "print(500*2)"
   ]
  },
  {
   "cell_type": "code",
   "execution_count": 5,
   "metadata": {},
   "outputs": [
    {
     "name": "stdout",
     "output_type": "stream",
     "text": [
      "52.91\n"
     ]
    }
   ],
   "source": [
    "print(20.5+32.41)"
   ]
  },
  {
   "cell_type": "code",
   "execution_count": 6,
   "metadata": {},
   "outputs": [
    {
     "name": "stdout",
     "output_type": "stream",
     "text": [
      "Two values are:  10 50\n"
     ]
    }
   ],
   "source": [
    "#print more than one value using comma \n",
    "x = 10\n",
    "y = 50\n",
    "print('Two values are: ',x,y)\n",
    "# Two values are:  10 50"
   ]
  },
  {
   "cell_type": "code",
   "execution_count": 7,
   "metadata": {},
   "outputs": [
    {
     "name": "stdout",
     "output_type": "stream",
     "text": [
      "10 50\n"
     ]
    }
   ],
   "source": [
    "#print more than one value using comma \n",
    "x = 10\n",
    "y = 50\n",
    "print(x,y)"
   ]
  },
  {
   "cell_type": "code",
   "execution_count": 8,
   "metadata": {},
   "outputs": [
    {
     "name": "stdout",
     "output_type": "stream",
     "text": [
      "Sum is:  60\n"
     ]
    }
   ],
   "source": [
    "print(\"Sum is: \",x+y)"
   ]
  },
  {
   "cell_type": "code",
   "execution_count": 9,
   "metadata": {},
   "outputs": [
    {
     "name": "stdout",
     "output_type": "stream",
     "text": [
      "Two values are 10 50 and their sum is 60\n"
     ]
    }
   ],
   "source": [
    "print(\"Two values are\",x,y,\"and their sum is\",x+y)"
   ]
  },
  {
   "cell_type": "code",
   "execution_count": 10,
   "metadata": {},
   "outputs": [
    {
     "name": "stdout",
     "output_type": "stream",
     "text": [
      "Two values are 10 & 50 \n"
     ]
    }
   ],
   "source": [
    "#Advanced - Format printing\n",
    "#Use the identifier {}\n",
    "print(\"Two values are {} & {} \".format(x,y))"
   ]
  },
  {
   "cell_type": "code",
   "execution_count": 11,
   "metadata": {},
   "outputs": [
    {
     "name": "stdout",
     "output_type": "stream",
     "text": [
      "Two values are 10 & 50, and their sum is 60 \n"
     ]
    }
   ],
   "source": [
    "print(\"Two values are {} & {}, and their sum is {} \".format(x,y,x+y))"
   ]
  },
  {
   "cell_type": "markdown",
   "metadata": {},
   "source": [
    "## Use Number to identify the value to fill\n",
    "### Format Printing on Nursery Rhymes"
   ]
  },
  {
   "cell_type": "markdown",
   "metadata": {},
   "source": [
    "Jack and Jill went up the hill\n",
    "To fetch a pail of water.\n",
    "Jack fell down and broke his crown,\n",
    "And Jill came tumbling after.\n",
    "\n",
    "Up Jack got, and home did trot,\n",
    "As fast as he could caper,\n",
    "He went to bed to mend his head,\n",
    "With vinegar and brown paper."
   ]
  },
  {
   "cell_type": "code",
   "execution_count": 12,
   "metadata": {},
   "outputs": [
    {
     "name": "stdout",
     "output_type": "stream",
     "text": [
      "Jack and Jill went up the hill\n",
      "To fetch a pail of water.\n",
      "Jack fell down and broke his crown,\n",
      "And Jill came tumbling after.\n",
      "\n",
      "Up Jack got, and home did trot,\n",
      "As fast as he could caper,\n",
      "He went to bed to mend his head,\n",
      "With vinegar and brown paper.\n"
     ]
    }
   ],
   "source": [
    "print(\"\"\"{0} and {1} went up the hill\n",
    "To fetch a pail of water.\n",
    "{0} fell down and broke his crown,\n",
    "And {1} came tumbling after.\n",
    "\n",
    "Up {0} got, and home did trot,\n",
    "As fast as he could caper,\n",
    "He went to bed to mend his head,\n",
    "With vinegar and brown paper.\"\"\".format(\"Jack\",\"Jill\"))"
   ]
  },
  {
   "cell_type": "markdown",
   "metadata": {},
   "source": [
    "### Activity :"
   ]
  },
  {
   "cell_type": "markdown",
   "metadata": {},
   "source": [
    "### For the below text, encode as below and print using format function :\n",
    "- 0 --> Johnny\n",
    "- 1 --> yes\n",
    "- 2 --> papa\n",
    "- 3 --> Open\n",
    "- 4 --> your\n",
    "- 5 --> mouth"
   ]
  },
  {
   "cell_type": "markdown",
   "metadata": {},
   "source": [
    "Johny, Johny, yes, papa\n",
    "Eating sugar? No, papa\n",
    "Telling lies? No, papa\n",
    "Open your mouth, hahaha!\n",
    "\n",
    "Johny, Johny, yes, papa\n",
    "Eating sugar, no, papa\n",
    "Telling lies, no, papa\n",
    "Open your mouth, hahaha!\n",
    "\n",
    "Johny, Johny, yes, papa\n",
    "Johny, Johny, yes, papa\n",
    "Johny, Johny, yes, papa\n",
    "Johny, Johny, yes, papa\n",
    "Johny, Johny, yes, papa\n",
    "\n",
    "Eating sugar, no, papa\n",
    "Telling lies, no, papa\n",
    "Open your mouth, hahaha!"
   ]
  },
  {
   "cell_type": "code",
   "execution_count": null,
   "metadata": {},
   "outputs": [],
   "source": []
  }
 ],
 "metadata": {
  "kernelspec": {
   "display_name": "Python 3",
   "language": "python",
   "name": "python3"
  },
  "language_info": {
   "codemirror_mode": {
    "name": "ipython",
    "version": 3
   },
   "file_extension": ".py",
   "mimetype": "text/x-python",
   "name": "python",
   "nbconvert_exporter": "python",
   "pygments_lexer": "ipython3",
   "version": "3.8.3"
  }
 },
 "nbformat": 4,
 "nbformat_minor": 4
}
