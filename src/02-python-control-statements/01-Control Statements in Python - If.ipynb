{
 "cells": [
  {
   "cell_type": "markdown",
   "metadata": {},
   "source": [
    "## `IF` control Statements"
   ]
  },
  {
   "cell_type": "markdown",
   "metadata": {},
   "source": [
    "`if (condition):\n",
    "    statements`"
   ]
  },
  {
   "cell_type": "code",
   "execution_count": 3,
   "metadata": {},
   "outputs": [
    {
     "data": {
      "text/plain": [
       "True"
      ]
     },
     "execution_count": 3,
     "metadata": {},
     "output_type": "execute_result"
    }
   ],
   "source": [
    "10 > 5"
   ]
  },
  {
   "cell_type": "code",
   "execution_count": 4,
   "metadata": {},
   "outputs": [
    {
     "name": "stdout",
     "output_type": "stream",
     "text": [
      "Number is greater than 5\n"
     ]
    }
   ],
   "source": [
    "#check if the number is greater than 5 or not\n",
    "x = 10\n",
    "if (x>5):\n",
    "    print(\"Number is greater than 5\")"
   ]
  },
  {
   "cell_type": "code",
   "execution_count": 6,
   "metadata": {},
   "outputs": [],
   "source": [
    "#check if the number is greater than 5 or not\n",
    "x = 1\n",
    "if (x>5):\n",
    "    print(\"Number is greater than 5\")"
   ]
  },
  {
   "cell_type": "code",
   "execution_count": 7,
   "metadata": {},
   "outputs": [
    {
     "name": "stdout",
     "output_type": "stream",
     "text": [
      "Execution completed\n"
     ]
    }
   ],
   "source": [
    "#check if the number is greater than 5 or not\n",
    "x = 1\n",
    "if (x>5):\n",
    "    print(\"Number is greater than 5\")\n",
    "print(\"Execution completed\")"
   ]
  },
  {
   "cell_type": "code",
   "execution_count": 8,
   "metadata": {},
   "outputs": [
    {
     "name": "stdout",
     "output_type": "stream",
     "text": [
      "Number is greater than 5\n",
      "Execution completed\n"
     ]
    }
   ],
   "source": [
    "#check if the number is greater than 5 or not\n",
    "x = 10\n",
    "if (x>5): #True\n",
    "    print(\"Number is greater than 5\")\n",
    "print(\"Execution completed\")"
   ]
  },
  {
   "cell_type": "code",
   "execution_count": 7,
   "metadata": {},
   "outputs": [
    {
     "name": "stdout",
     "output_type": "stream",
     "text": [
      "Number is greater than 10\n",
      "Number is greater than 15\n",
      "Execution Level 2 Completed\n",
      "Execution Level 1 completed\n",
      "Execution Level 0 Zero Completed\n"
     ]
    }
   ],
   "source": [
    "#check if the number is greter than 10 and 15\n",
    "x = 20\n",
    "if(x>10): # true\n",
    "    print(\"Number is greater than 10\")\n",
    "    if(x>15):\n",
    "        print(\"Number is greater than 15\")\n",
    "        print(\"Execution Level 2 Completed\")\n",
    "    print(\"Execution Level 1 completed\")\n",
    "print(\"Execution Level 0 Zero Completed\")"
   ]
  },
  {
   "cell_type": "code",
   "execution_count": 8,
   "metadata": {},
   "outputs": [
    {
     "name": "stdout",
     "output_type": "stream",
     "text": [
      "Number is greater than 10\n",
      "Number is greater than 15\n",
      "Execution Level 2 Completed\n",
      "Execution Level 1 completed\n",
      "Execution Level 0 Zero Completed\n"
     ]
    }
   ],
   "source": [
    "#check if the number is greter than 10 ,15 & 25\n",
    "x = 20\n",
    "if(x>10):\n",
    "    print(\"Number is greater than 10\")\n",
    "    if(x>15):\n",
    "        print(\"Number is greater than 15\")\n",
    "        if(x>25):\n",
    "            print(\"Number is greater than 25\")\n",
    "            print(\"Execution Level 3 Completed\")\n",
    "        print(\"Execution Level 2 Completed\")\n",
    "    print(\"Execution Level 1 completed\")\n",
    "print(\"Execution Level 0 Zero Completed\")"
   ]
  },
  {
   "cell_type": "markdown",
   "metadata": {},
   "source": [
    "### Write a Program that takes input from the user, and checks if it is Even or Odd\n",
    "\n",
    "`hint`: \n",
    "    - Even Number - number completely divisible by 2 \n",
    "    - Odd Number - Number will not be completely divisible by 2"
   ]
  },
  {
   "cell_type": "code",
   "execution_count": 11,
   "metadata": {},
   "outputs": [
    {
     "data": {
      "text/plain": [
       "0"
      ]
     },
     "execution_count": 11,
     "metadata": {},
     "output_type": "execute_result"
    }
   ],
   "source": [
    "16%2"
   ]
  },
  {
   "cell_type": "code",
   "execution_count": 12,
   "metadata": {},
   "outputs": [
    {
     "data": {
      "text/plain": [
       "True"
      ]
     },
     "execution_count": 12,
     "metadata": {},
     "output_type": "execute_result"
    }
   ],
   "source": [
    "16 % 2 == 0"
   ]
  },
  {
   "cell_type": "code",
   "execution_count": 14,
   "metadata": {},
   "outputs": [
    {
     "name": "stdout",
     "output_type": "stream",
     "text": [
      "Please enter a valid integer: 12\n",
      "Number is even number\n"
     ]
    }
   ],
   "source": [
    "num = input(\"Please enter a valid integer: \")\n",
    "num = int(num)\n",
    "if (num % 2 == 0):\n",
    "    print(\"Number is even number\")\n",
    "if (num % 2 != 0):\n",
    "    print(\"Number is an odd number\")"
   ]
  },
  {
   "cell_type": "code",
   "execution_count": null,
   "metadata": {},
   "outputs": [],
   "source": []
  },
  {
   "cell_type": "markdown",
   "metadata": {},
   "source": [
    "### Activity:\n",
    "Write a Program which takes 3 inputs from users and check if the total sum is an even number or not"
   ]
  },
  {
   "cell_type": "code",
   "execution_count": null,
   "metadata": {},
   "outputs": [],
   "source": []
  },
  {
   "cell_type": "code",
   "execution_count": null,
   "metadata": {},
   "outputs": [],
   "source": []
  }
 ],
 "metadata": {
  "kernelspec": {
   "display_name": "Python 3",
   "language": "python",
   "name": "python3"
  },
  "language_info": {
   "codemirror_mode": {
    "name": "ipython",
    "version": 3
   },
   "file_extension": ".py",
   "mimetype": "text/x-python",
   "name": "python",
   "nbconvert_exporter": "python",
   "pygments_lexer": "ipython3",
   "version": "3.12.4"
  }
 },
 "nbformat": 4,
 "nbformat_minor": 4
}
