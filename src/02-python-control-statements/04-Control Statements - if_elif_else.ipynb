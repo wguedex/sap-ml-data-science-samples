{
 "cells": [
  {
   "cell_type": "markdown",
   "metadata": {},
   "source": [
    "### Write a Program to check if a given number is Positive, Negative or Zero"
   ]
  },
  {
   "cell_type": "code",
   "execution_count": 3,
   "metadata": {},
   "outputs": [
    {
     "name": "stdout",
     "output_type": "stream",
     "text": [
      "Please input the number: 0\n",
      "Entered value is equal to Zero\n"
     ]
    }
   ],
   "source": [
    "x = int(input(\"Please input the number: \"))\n",
    "if (x >0):\n",
    "    print(\"Entered value is a positive value\")\n",
    "elif (x<0):\n",
    "    print(\"Entered value is a negative value\")    \n",
    "else:\n",
    "    print(\"Entered value is equal to Zero\")"
   ]
  },
  {
   "cell_type": "code",
   "execution_count": 6,
   "metadata": {},
   "outputs": [
    {
     "name": "stdout",
     "output_type": "stream",
     "text": [
      "Please input the number: 0\n",
      "Entered value is equal to Zero\n",
      "Execution completed\n",
      "Hello World\n"
     ]
    }
   ],
   "source": [
    "x = int(input(\"Please input the number: \"))\n",
    "if (x >0):\n",
    "    print(\"Entered value is a positive value\")\n",
    "elif (x<0):\n",
    "    print(\"Entered value is a negative value\")    \n",
    "else:\n",
    "    print(\"Entered value is equal to Zero\")\n",
    "print(\"Execution completed\")\n",
    "print(\"Hello World\")"
   ]
  },
  {
   "cell_type": "code",
   "execution_count": null,
   "metadata": {},
   "outputs": [],
   "source": []
  },
  {
   "cell_type": "code",
   "execution_count": null,
   "metadata": {},
   "outputs": [],
   "source": []
  },
  {
   "cell_type": "code",
   "execution_count": null,
   "metadata": {},
   "outputs": [],
   "source": []
  },
  {
   "cell_type": "markdown",
   "metadata": {},
   "source": [
    "### Write a Program to check the input number from user between Zero to Nine, and display it in words"
   ]
  },
  {
   "cell_type": "code",
   "execution_count": 10,
   "metadata": {},
   "outputs": [
    {
     "name": "stdout",
     "output_type": "stream",
     "text": [
      "Please input the number between 0 to 9 : 10\n",
      "Invalid Input\n"
     ]
    }
   ],
   "source": [
    "x = int(input(\"Please input the number between 0 to 9 : \"))\n",
    "if x == 0:\n",
    "    print(\"Zero\")\n",
    "elif x == 1 :\n",
    "    print(\"One\")\n",
    "elif x == 2:\n",
    "    print(\"Two\")\n",
    "elif x == 3 :\n",
    "    print(\"Three\")\n",
    "elif (x == 4):\n",
    "    print(\"Four\")\n",
    "elif (x == 5):\n",
    "    print(\"Five\")\n",
    "elif (x == 6):\n",
    "    print(\"Six\")\n",
    "elif (x == 7):\n",
    "    print(\"Seven\")\n",
    "elif (x == 8):\n",
    "    print(\"Eight\")\n",
    "elif (x == 9):\n",
    "    print(\"Nine\")\n",
    "else :\n",
    "    print(\"Invalid Input\")"
   ]
  },
  {
   "cell_type": "markdown",
   "metadata": {},
   "source": [
    "## Activity "
   ]
  },
  {
   "cell_type": "markdown",
   "metadata": {},
   "source": [
    "A school has following rules for grading system:\n",
    "    - Below 25 - F\n",
    "    - 25 to 45 - E\n",
    "    - 45 to 50 - D\n",
    "    - 50 to 60 - C\n",
    "    - 60 to 80 - B\n",
    "    - Above 80 - A\n",
    "\n",
    "Ask user to enter marks and print the corresponding grade."
   ]
  },
  {
   "cell_type": "code",
   "execution_count": null,
   "metadata": {},
   "outputs": [],
   "source": []
  }
 ],
 "metadata": {
  "kernelspec": {
   "display_name": "Python 3",
   "language": "python",
   "name": "python3"
  },
  "language_info": {
   "codemirror_mode": {
    "name": "ipython",
    "version": 3
   },
   "file_extension": ".py",
   "mimetype": "text/x-python",
   "name": "python",
   "nbconvert_exporter": "python",
   "pygments_lexer": "ipython3",
   "version": "3.8.3"
  }
 },
 "nbformat": 4,
 "nbformat_minor": 4
}
