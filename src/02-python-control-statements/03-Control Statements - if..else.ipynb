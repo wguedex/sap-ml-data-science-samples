{
 "cells": [
  {
   "cell_type": "markdown",
   "metadata": {},
   "source": [
    "### Modify the previous program which checks for even or odd"
   ]
  },
  {
   "cell_type": "code",
   "execution_count": 1,
   "metadata": {},
   "outputs": [
    {
     "name": "stdout",
     "output_type": "stream",
     "text": [
      "Please enter a valid integer: 50\n",
      "Number is even number\n"
     ]
    }
   ],
   "source": [
    "num = input(\"Please enter a valid integer: \")\n",
    "num = int(num)\n",
    "if (num % 2 == 0):\n",
    "    print(\"Number is even number\")\n",
    "else:\n",
    "    print(\"Number is an odd number\")"
   ]
  },
  {
   "cell_type": "code",
   "execution_count": 2,
   "metadata": {},
   "outputs": [
    {
     "name": "stdout",
     "output_type": "stream",
     "text": [
      "Please enter a valid integer: 53\n",
      "Number is an odd number\n"
     ]
    }
   ],
   "source": [
    "num = input(\"Please enter a valid integer: \")\n",
    "num = int(num)\n",
    "if (num % 2 == 0):\n",
    "    print(\"Number is even number\")\n",
    "else:\n",
    "    print(\"Number is an odd number\")"
   ]
  },
  {
   "cell_type": "code",
   "execution_count": 4,
   "metadata": {},
   "outputs": [
    {
     "name": "stdout",
     "output_type": "stream",
     "text": [
      "Please enter a valid integer: 13\n",
      "Number is an odd number\n",
      "Execution completed\n"
     ]
    }
   ],
   "source": [
    "num = input(\"Please enter a valid integer: \")\n",
    "num = int(num)\n",
    "if (num % 2 == 0):\n",
    "    print(\"Number is even number\")\n",
    "else:\n",
    "    print(\"Number is an odd number\")\n",
    "print(\"Execution completed\")"
   ]
  },
  {
   "cell_type": "code",
   "execution_count": null,
   "metadata": {},
   "outputs": [],
   "source": []
  },
  {
   "cell_type": "code",
   "execution_count": null,
   "metadata": {},
   "outputs": [],
   "source": []
  },
  {
   "cell_type": "code",
   "execution_count": null,
   "metadata": {},
   "outputs": [],
   "source": []
  },
  {
   "cell_type": "markdown",
   "metadata": {},
   "source": [
    "### Write a program which checks whether the given number is between 10 and 50"
   ]
  },
  {
   "cell_type": "code",
   "execution_count": 6,
   "metadata": {},
   "outputs": [
    {
     "name": "stdout",
     "output_type": "stream",
     "text": [
      "Please enter the number : 52\n",
      "The entered value is not between 10 and 50 \n"
     ]
    }
   ],
   "source": [
    "x = int(input(\"Please enter the number : \"))\n",
    "if (x>10 and x<50):\n",
    "    print(\"The entered value is between 10 and 50\")\n",
    "else:\n",
    "    print(\"The entered value is not between 10 and 50 \")"
   ]
  },
  {
   "cell_type": "code",
   "execution_count": null,
   "metadata": {},
   "outputs": [],
   "source": []
  },
  {
   "cell_type": "code",
   "execution_count": null,
   "metadata": {},
   "outputs": [],
   "source": []
  },
  {
   "cell_type": "code",
   "execution_count": null,
   "metadata": {},
   "outputs": [],
   "source": []
  },
  {
   "cell_type": "markdown",
   "metadata": {},
   "source": [
    "### Activity:\n",
    "Write a program which takes 3 numbers as input from user, perform sum and print whether its *odd* or *even* using the `if..else..` statements"
   ]
  },
  {
   "cell_type": "code",
   "execution_count": null,
   "metadata": {},
   "outputs": [],
   "source": []
  },
  {
   "cell_type": "code",
   "execution_count": null,
   "metadata": {},
   "outputs": [],
   "source": []
  }
 ],
 "metadata": {
  "kernelspec": {
   "display_name": "Python 3",
   "language": "python",
   "name": "python3"
  },
  "language_info": {
   "codemirror_mode": {
    "name": "ipython",
    "version": 3
   },
   "file_extension": ".py",
   "mimetype": "text/x-python",
   "name": "python",
   "nbconvert_exporter": "python",
   "pygments_lexer": "ipython3",
   "version": "3.8.3"
  }
 },
 "nbformat": 4,
 "nbformat_minor": 4
}
