{
 "cells": [
  {
   "cell_type": "markdown",
   "metadata": {},
   "source": [
    "### Create a python list with values between 0 to 10 . Iterate over the list, and when the value in that iteration is equal to 5. Exit the Loop, and Finally print as : Execution Successful"
   ]
  },
  {
   "cell_type": "code",
   "execution_count": 1,
   "metadata": {},
   "outputs": [
    {
     "name": "stdout",
     "output_type": "stream",
     "text": [
      "0\n",
      "1\n",
      "2\n",
      "3\n",
      "4\n",
      "Execution Successful\n"
     ]
    }
   ],
   "source": [
    "x = [0,1,2,3,4,5,6,7,8,9,10]\n",
    "for val in x:\n",
    "    if val == 5:\n",
    "        break\n",
    "    print(val)\n",
    "print(\"Execution Successful\")"
   ]
  },
  {
   "cell_type": "markdown",
   "metadata": {},
   "source": [
    "### Use the same list as above, instead of coming out of loop, just skip writing 5 in O/P"
   ]
  },
  {
   "cell_type": "code",
   "execution_count": 2,
   "metadata": {},
   "outputs": [
    {
     "name": "stdout",
     "output_type": "stream",
     "text": [
      "0\n",
      "1\n",
      "2\n",
      "3\n",
      "4\n",
      "6\n",
      "7\n",
      "8\n",
      "9\n",
      "10\n",
      "Execution Successful\n"
     ]
    }
   ],
   "source": [
    "x = [0,1,2,3,4,5,6,7,8,9,10]\n",
    "for val in x:\n",
    "    if val == 5:\n",
    "        continue\n",
    "    print(val)\n",
    "print(\"Execution Successful\")"
   ]
  },
  {
   "cell_type": "markdown",
   "metadata": {},
   "source": [
    "### This time, just add a null operation when value becomes 5"
   ]
  },
  {
   "cell_type": "code",
   "execution_count": 3,
   "metadata": {},
   "outputs": [
    {
     "name": "stdout",
     "output_type": "stream",
     "text": [
      "0\n",
      "1\n",
      "2\n",
      "3\n",
      "4\n",
      "5\n",
      "6\n",
      "7\n",
      "8\n",
      "9\n",
      "10\n",
      "Execution Successful\n"
     ]
    }
   ],
   "source": [
    "x = [0,1,2,3,4,5,6,7,8,9,10]\n",
    "for val in x:\n",
    "    if val == 5:\n",
    "        pass\n",
    "    print(val)\n",
    "print(\"Execution Successful\")"
   ]
  },
  {
   "cell_type": "code",
   "execution_count": null,
   "metadata": {},
   "outputs": [],
   "source": []
  },
  {
   "cell_type": "markdown",
   "metadata": {},
   "source": [
    "### Write a Program that can search for an element in Python list\n",
    "`Suppose, if I have a python list as : [1,2,3,4,5,6,7,8,9,0]. If the user inputs the value 2, then I should return as : value has been found in Python list.`"
   ]
  },
  {
   "cell_type": "code",
   "execution_count": 6,
   "metadata": {},
   "outputs": [
    {
     "name": "stdout",
     "output_type": "stream",
     "text": [
      "Please enter the value between 0 to 915\n"
     ]
    }
   ],
   "source": [
    "num = int(input(\"Please enter the value between 0 to 9\"))\n",
    "x_list = [1,2,3,4,5,6,7,8,9,0]\n",
    "\n",
    "for x in x_list:\n",
    "    if x == num:\n",
    "        print(\"Value has been found\")\n",
    "        break"
   ]
  },
  {
   "cell_type": "code",
   "execution_count": 8,
   "metadata": {},
   "outputs": [
    {
     "name": "stdout",
     "output_type": "stream",
     "text": [
      "Please enter the value between 0 to 9: 15\n",
      "The entered value 15 is not available in the python list\n"
     ]
    }
   ],
   "source": [
    "num = int(input(\"Please enter the value between 0 to 9: \"))\n",
    "x_list = [1,2,3,4,5,6,7,8,9,0]\n",
    "found = False\n",
    "for x in x_list:\n",
    "    if x == num:\n",
    "        found = True\n",
    "if found:\n",
    "    print('The entered value',num,\"is present in the python list\")\n",
    "else:\n",
    "    print('The entered value',num,\"is not available in the python list\")"
   ]
  },
  {
   "cell_type": "code",
   "execution_count": null,
   "metadata": {},
   "outputs": [],
   "source": []
  },
  {
   "cell_type": "markdown",
   "metadata": {},
   "source": [
    "# Return Statement will be discussed during the topic of Functions in Python"
   ]
  },
  {
   "cell_type": "markdown",
   "metadata": {},
   "source": [
    "# Activity"
   ]
  },
  {
   "cell_type": "markdown",
   "metadata": {},
   "source": [
    "Create a python list as:\n",
    "\n",
    "`ex_list = [12, 15, 32, 42, 55, 75, 122, 132, 150, 180, 200]`\n",
    "\n",
    "iterate it and display only the numbers which are divisible by 3 and when you find the number 180, come out of the loop."
   ]
  },
  {
   "cell_type": "code",
   "execution_count": null,
   "metadata": {},
   "outputs": [],
   "source": []
  },
  {
   "cell_type": "code",
   "execution_count": null,
   "metadata": {},
   "outputs": [],
   "source": []
  },
  {
   "cell_type": "code",
   "execution_count": null,
   "metadata": {},
   "outputs": [],
   "source": []
  },
  {
   "cell_type": "code",
   "execution_count": null,
   "metadata": {},
   "outputs": [],
   "source": []
  },
  {
   "cell_type": "code",
   "execution_count": null,
   "metadata": {},
   "outputs": [],
   "source": []
  }
 ],
 "metadata": {
  "kernelspec": {
   "display_name": "Python 3",
   "language": "python",
   "name": "python3"
  },
  "language_info": {
   "codemirror_mode": {
    "name": "ipython",
    "version": 3
   },
   "file_extension": ".py",
   "mimetype": "text/x-python",
   "name": "python",
   "nbconvert_exporter": "python",
   "pygments_lexer": "ipython3",
   "version": "3.12.4"
  }
 },
 "nbformat": 4,
 "nbformat_minor": 4
}
